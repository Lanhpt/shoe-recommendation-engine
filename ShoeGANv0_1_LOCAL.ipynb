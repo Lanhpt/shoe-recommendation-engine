{
 "cells": [
  {
   "cell_type": "code",
   "execution_count": null,
   "metadata": {},
   "outputs": [],
   "source": []
  },
  {
   "cell_type": "markdown",
   "metadata": {
    "colab_type": "text",
    "id": "R_nHsuaPAXsZ"
   },
   "source": [
    "# TFGAN Tutorial\n",
    "\n",
    "## Authors: Joel Shor, joel-shor\n",
    "\n",
    "### More complex examples, see [`tensorflow/models/gan`](https://github.com/tensorflow/models/tree/master/research/gan)\n",
    "\n",
    "\n",
    "This notebook will walk you through the basics of using [TFGAN](https://github.com/tensorflow/tensorflow/tree/master/tensorflow/contrib/gan) to define, train, and evaluate Generative Adversarial Networks. We describe the library's core features as well as some extra features. This colab assumes a familiarity with TensorFlow's Python API. For more on TensorFlow, please see [TensorFlow tutorials](https://www.tensorflow.org/tutorials/).\n",
    "\n",
    "Please note that running on GPU will significantly speed up the training steps, but is not required.\n",
    "\n",
    "Last update: 2018-02-10."
   ]
  },
  {
   "cell_type": "code",
   "execution_count": null,
   "metadata": {},
   "outputs": [],
   "source": []
  },
  {
   "cell_type": "markdown",
   "metadata": {
    "colab_type": "text",
    "id": "qvnnRxw4AXsb"
   },
   "source": [
    "## Table of Contents\n",
    "<a href='#installation_and_setup'>Installation and Setup</a><br>\n",
    "&nbsp;&nbsp;&nbsp;&nbsp;&nbsp;&nbsp;<a href='#download_data'>Download Data</a><br>\n",
    "<a href='#unconditional_example'>Unconditional GAN example</a><br>\n",
    "&nbsp;&nbsp;&nbsp;&nbsp;&nbsp;&nbsp;<a href='#unconditional_input'>Input pipeline</a><br>\n",
    "&nbsp;&nbsp;&nbsp;&nbsp;&nbsp;&nbsp;<a href='#unconditional_model'>Model</a><br>\n",
    "&nbsp;&nbsp;&nbsp;&nbsp;&nbsp;&nbsp;<a href='#unconditional_loss'>Loss</a><br>\n",
    "&nbsp;&nbsp;&nbsp;&nbsp;&nbsp;&nbsp;<a href='#unconditional_train'>Train and evaluation</a><br>\n",
    "<a href='#ganestimator_example'>GANEstimator example</a><br>\n",
    "&nbsp;&nbsp;&nbsp;&nbsp;&nbsp;&nbsp;<a href='#ganestimator_input'>Input pipeline</a><br>\n",
    "&nbsp;&nbsp;&nbsp;&nbsp;&nbsp;&nbsp;<a href='#ganestimator_train'>Train</a><br>\n",
    "&nbsp;&nbsp;&nbsp;&nbsp;&nbsp;&nbsp;<a href='#ganestimator_eval'>Eval</a><br>\n",
    "<a href='#conditional_example'>Conditional GAN example</a><br>\n",
    "&nbsp;&nbsp;&nbsp;&nbsp;&nbsp;&nbsp;<a href='#conditional_input'>Input pipeline</a><br>\n",
    "&nbsp;&nbsp;&nbsp;&nbsp;&nbsp;&nbsp;<a href='#conditional_model'>Model</a><br>\n",
    "&nbsp;&nbsp;&nbsp;&nbsp;&nbsp;&nbsp;<a href='#conditional_loss'>Loss</a><br>\n",
    "&nbsp;&nbsp;&nbsp;&nbsp;&nbsp;&nbsp;<a href='#conditional_train'>Train and evaluation</a><br>\n",
    "<a href='#infogan_example'>InfoGAN example</a><br>\n",
    "&nbsp;&nbsp;&nbsp;&nbsp;&nbsp;&nbsp;<a href='#infogan_input'>Input pipeline</a><br>\n",
    "&nbsp;&nbsp;&nbsp;&nbsp;&nbsp;&nbsp;<a href='#infogan_model'>Model</a><br>\n",
    "&nbsp;&nbsp;&nbsp;&nbsp;&nbsp;&nbsp;<a href='#infogan_loss'>Loss</a><br>\n",
    "&nbsp;&nbsp;&nbsp;&nbsp;&nbsp;&nbsp;<a href='#infogan_train'>Train and evaluation</a><br>"
   ]
  },
  {
   "cell_type": "markdown",
   "metadata": {
    "colab_type": "text",
    "id": "HNx4HAKyAXsc"
   },
   "source": [
    "<a id='installation_and_setup'></a>\n",
    "## Installation and setup\n",
    "\n",
    "To make sure that your version of TensorFlow has TFGAN included, run\n",
    "\n",
    "```\n",
    "python -c \"import tensorflow.contrib.gan as tfgan\"\n",
    "```\n",
    "\n",
    "You also need to install the TFGAN models library.\n",
    "\n",
    "To check that these two steps work, execute the [`Imports`](#imports) cell. If it complains about unknown modules, restart the notebook after moving to the TFGAN models directory."
   ]
  },
  {
   "cell_type": "code",
   "execution_count": 1,
   "metadata": {
    "colab": {},
    "colab_type": "code",
    "id": "eX0pb-goAXsd"
   },
   "outputs": [
    {
     "name": "stdout",
     "output_type": "stream",
     "text": [
      "/anaconda3/lib/python3.6/site-packages/h5py/__init__.py:36: FutureWarning: Conversion of the second argument of issubdtype from `float` to `np.floating` is deprecated. In future, it will be treated as `np.float64 == np.dtype(float).type`.\r\n",
      "  from ._conv import register_converters as _register_converters\r\n"
     ]
    }
   ],
   "source": [
    "!python -c \"import tensorflow.contrib.gan as tfgan\""
   ]
  },
  {
   "cell_type": "code",
   "execution_count": 2,
   "metadata": {
    "colab": {},
    "colab_type": "code",
    "id": "8c9LjIbfAXsy"
   },
   "outputs": [
    {
     "name": "stdout",
     "output_type": "stream",
     "text": [
      "/Users/griggles/Documents/FLATIRON/FINAL PROJECT/Fashion/shoes\n"
     ]
    },
    {
     "name": "stderr",
     "output_type": "stream",
     "text": [
      "/anaconda3/lib/python3.6/site-packages/h5py/__init__.py:36: FutureWarning: Conversion of the second argument of issubdtype from `float` to `np.floating` is deprecated. In future, it will be treated as `np.float64 == np.dtype(float).type`.\n",
      "  from ._conv import register_converters as _register_converters\n"
     ]
    },
    {
     "name": "stdout",
     "output_type": "stream",
     "text": [
      "\n",
      "WARNING: The TensorFlow contrib module will not be included in TensorFlow 2.0.\n",
      "For more information, please see:\n",
      "  * https://github.com/tensorflow/community/blob/master/rfcs/20180907-contrib-sunset.md\n",
      "  * https://github.com/tensorflow/addons\n",
      "If you depend on functionality not listed there, please file an issue.\n",
      "\n"
     ]
    }
   ],
   "source": [
    "# Make TFGAN models and TF-Slim models discoverable.\n",
    "import sys\n",
    "import os\n",
    "\n",
    "\n",
    "#make sure we're in models/research/gan\n",
    "print(os.getcwd())\n",
    "import shoe_data_provider\n",
    "\n",
    "os.chdir('../tf_experiment/models/research/gan')\n",
    "\n",
    "# This is needed since the notebook is stored in the `tensorflow/models/gan` folder.\n",
    "sys.path.append('..')\n",
    "sys.path.append(os.path.join('..', 'slim'))"
   ]
  },
  {
   "cell_type": "markdown",
   "metadata": {
    "colab_type": "text",
    "id": "TQ0Qw1mPAXs7"
   },
   "source": [
    "<a id='imports'></a>\n",
    "### Imports"
   ]
  },
  {
   "cell_type": "markdown",
   "metadata": {
    "colab_type": "text",
    "id": "gUfmCS3vaxLn"
   },
   "source": []
  },
  {
   "cell_type": "code",
   "execution_count": 3,
   "metadata": {
    "colab": {
     "base_uri": "https://localhost:8080/",
     "height": 136
    },
    "colab_type": "code",
    "id": "MV-KH-2bAXs7",
    "outputId": "0103588f-2a75-4898-ff76-82df25142177"
   },
   "outputs": [],
   "source": [
    "from __future__ import absolute_import\n",
    "from __future__ import division\n",
    "from __future__ import print_function\n",
    "\n",
    "%matplotlib inline\n",
    "import matplotlib.pyplot as plt\n",
    "import numpy as np\n",
    "import time\n",
    "import functools\n",
    "from six.moves import xrange  # pylint: disable=redefined-builtin\n",
    "\n",
    "import tensorflow as tf\n",
    "\n",
    "\n",
    "\n",
    "# Main TFGAN library.\n",
    "tfgan = tf.contrib.gan\n",
    "\n",
    "# TFGAN MNIST examples from `tensorflow/models`.\n",
    "from mnist import data_provider\n",
    "from mnist import util\n",
    "\n",
    "# TF-Slim data provider.\n",
    "\n",
    "#### need to figure out how to give shoes to this thing here vvvvvvv\n",
    "from datasets import download_and_convert_mnist\n",
    "\n",
    "\n",
    "\n",
    "# Shortcuts for later.\n",
    "queues = tf.contrib.slim.queues\n",
    "layers = tf.contrib.layers\n",
    "ds = tf.contrib.distributions\n",
    "framework = tf.contrib.framework"
   ]
  },
  {
   "cell_type": "markdown",
   "metadata": {
    "colab_type": "text",
    "id": "E8Jtw5yfAXtP"
   },
   "source": [
    "### Common functions\n",
    "\n",
    "These functions are used by many examples, so we define them here."
   ]
  },
  {
   "cell_type": "code",
   "execution_count": 4,
   "metadata": {
    "colab": {},
    "colab_type": "code",
    "id": "zf3OybWTAXtR"
   },
   "outputs": [],
   "source": [
    "leaky_relu = lambda net: tf.nn.leaky_relu(net, alpha=0.01)\n",
    "  \n",
    "\n",
    "def visualize_training_generator(train_step_num, start_time, data_np):\n",
    "    \"\"\"Visualize generator outputs during training.\n",
    "    \n",
    "    Args:\n",
    "        train_step_num: The training step number. A python integer.\n",
    "        start_time: Time when training started. The output of `time.time()`. A\n",
    "            python float.\n",
    "        data: Data to plot. A numpy array, most likely from an evaluated TensorFlow\n",
    "            tensor.\n",
    "    \"\"\"\n",
    "    print('Training step: %i' % train_step_num)\n",
    "    time_since_start = (time.time() - start_time) / 60.0\n",
    "    print('Time since start: %f m' % time_since_start)\n",
    "    print('Steps per min: %f' % (train_step_num / time_since_start))\n",
    "    plt.axis('off')\n",
    "    plt.imshow(np.squeeze(data_np), cmap='gray')\n",
    "    plt.show()\n",
    "\n",
    "def visualize_digits(tensor_to_visualize):\n",
    "    \"\"\"Visualize an image once. Used to visualize generator before training.\n",
    "    \n",
    "    Args:\n",
    "        tensor_to_visualize: An image tensor to visualize. A python Tensor.\n",
    "    \"\"\"\n",
    "    with tf.Session() as sess:\n",
    "        sess.run(tf.global_variables_initializer())\n",
    "        with queues.QueueRunners(sess):\n",
    "            images_np = sess.run(tensor_to_visualize)\n",
    "    plt.axis('off')\n",
    "    plt.imshow(np.squeeze(images_np), cmap='gray')\n",
    "\n",
    "def evaluate_tfgan_loss(gan_loss, name=None):\n",
    "    \"\"\"Evaluate GAN losses. Used to check that the graph is correct.\n",
    "    \n",
    "    Args:\n",
    "        gan_loss: A GANLoss tuple.\n",
    "        name: Optional. If present, append to debug output.\n",
    "    \"\"\"\n",
    "    with tf.Session() as sess:\n",
    "        sess.run(tf.global_variables_initializer())\n",
    "        with queues.QueueRunners(sess):\n",
    "            gen_loss_np = sess.run(gan_loss.generator_loss)\n",
    "            dis_loss_np = sess.run(gan_loss.discriminator_loss)\n",
    "    if name:\n",
    "        print('%s generator loss: %f' % (name, gen_loss_np))\n",
    "        print('%s discriminator loss: %f'% (name, dis_loss_np))\n",
    "    else:\n",
    "        print('Generator loss: %f' % gen_loss_np)\n",
    "        print('Discriminator loss: %f'% dis_loss_np)"
   ]
  },
  {
   "cell_type": "markdown",
   "metadata": {
    "colab_type": "text",
    "id": "S1Rq9nKIAXtU"
   },
   "source": [
    "<a id='download_data'></a>\n",
    "### Download data"
   ]
  },
  {
   "cell_type": "code",
   "execution_count": 5,
   "metadata": {
    "colab": {},
    "colab_type": "code",
    "id": "0DjexOJbAXtW"
   },
   "outputs": [
    {
     "name": "stdout",
     "output_type": "stream",
     "text": [
      "Dataset files already exist. Exiting without re-creating them.\n"
     ]
    }
   ],
   "source": [
    "#TWO CELLS WE NEED OT BE WORKING ON\n",
    "\n",
    "# GET THE DATA\n",
    "\n",
    "\n",
    "MNIST_DATA_DIR = 'tmp/mnist'\n",
    "\n",
    "\n",
    "\n",
    "\n",
    "if not tf.gfile.Exists(MNIST_DATA_DIR):\n",
    "    tf.gfile.MakeDirs(MNIST_DATA_DIR)\n",
    "\n",
    "    \n",
    "    ####PUT SHOES IN HERE vvv\n",
    "    \n",
    "    #this is downloading mnist data and converting to a .tfrecord...\n",
    "    \n",
    "    #we just converted to a tf record already... so we could just upload that tf \n",
    "    #record... (and put it in the samep place as MNIST_DATA_DIR and then not CALL\n",
    "    #DOWNLOAD AND CONVERT... THEN THE DATA SHOULD BE POINTING AT OUR .tfrecord :)\n",
    "\n",
    "\n",
    "download_and_convert_mnist.run(MNIST_DATA_DIR)"
   ]
  },
  {
   "cell_type": "code",
   "execution_count": 6,
   "metadata": {},
   "outputs": [],
   "source": [
    "\n",
    "### provide_data defined here\n",
    "\n",
    "slim = tf.contrib.slim\n",
    "\n",
    "###shoe dataset is stored as a numpy array\n",
    "def get_shoe_dataset(split_name, dataset_dir):\n",
    "    img_array = np.load('{}/{}_data_imgs.npy'.format(dataset_dir, split_name))\n",
    "    lbl_array = np.load('{}/{}_data_lbls.npy'.format(dataset_dir, split_name))\n",
    "    dataset = tf.data.Dataset.from_tensor_slices({'image': img_array, 'label': lbl_array})._dataset\n",
    "    #dataset.data_sources = ['TENSORFLOW', 'SUCKS']\n",
    "    #dataset.reader = 'FACK'\n",
    "    return dataset\n",
    "    \n",
    "\n",
    "def provide_shoe_data(split_name, batch_size, dataset_dir, num_readers=1,\n",
    "                 num_threads=1):\n",
    "  \"\"\"Provides batches of MNIST digits.\n",
    "\n",
    "  Args:\n",
    "    split_name: Either 'train' or 'test'.\n",
    "    batch_size: The number of images in each batch.\n",
    "    dataset_dir: The directory where the MNIST data can be found.\n",
    "    num_readers: Number of dataset readers.\n",
    "    num_threads: Number of prefetching threads.\n",
    "\n",
    "  Returns:\n",
    "    images: A `Tensor` of size [batch_size, 28, 28, 1]\n",
    "    one_hot_labels: A `Tensor` of size [batch_size, mnist.NUM_CLASSES], where\n",
    "      each row has a single element set to one and the rest set to zeros.\n",
    "    num_samples: The number of total samples in the dataset.\n",
    "\n",
    "  Raises:\n",
    "    ValueError: If `split_name` is not either 'train' or 'test'.\n",
    "  \"\"\"\n",
    "  dataset = get_shoe_dataset(split_name, dataset_dir)\n",
    "    \n",
    "    \n",
    "  #THIS SHOULD BE RETURNING A MOFO'ING DATASET BUT IT RETURNS A DATASETV1ADAPTER WHATEVER\n",
    "  #THAT IS!!!\n",
    "    \n",
    "  print(type(dataset))\n",
    "  provider = slim.dataset_data_provider.DatasetDataProvider(\n",
    "      dataset,\n",
    "      num_readers=num_readers,\n",
    "      common_queue_capacity=2 * batch_size,\n",
    "      common_queue_min=batch_size, shuffle=(split_name == 'train'))\n",
    "\n",
    "  [image, label] = provider.get(['image', 'label'])\n",
    "\n",
    "  # Preprocess the images.\n",
    "  image = (tf.to_float(image) - 128.0) / 128.0\n",
    "\n",
    "  # Creates a QueueRunner for the pre-fetching operation.\n",
    "  images, labels = tf.train.batch(\n",
    "      [image, label],\n",
    "      batch_size=batch_size,\n",
    "      num_threads=num_threads,\n",
    "      capacity=5 * batch_size)\n",
    "\n",
    "  one_hot_labels = tf.one_hot(labels, dataset.num_classes)\n",
    "  return images, one_hot_labels, dataset.num_samples\n",
    "\n",
    "\n",
    "def float_image_to_uint8(image):\n",
    "  \"\"\"Convert float image in [-1, 1) to [0, 255] uint8.\n",
    "\n",
    "  Note that `1` gets mapped to `0`, but `1 - epsilon` gets mapped to 255.\n",
    "\n",
    "  Args:\n",
    "    image: An image tensor. Values should be in [-1, 1).\n",
    "\n",
    "  Returns:\n",
    "    Input image cast to uint8 and with integer values in [0, 255].\n",
    "  \"\"\"\n",
    "  image = (image * 128.0) + 128.0\n",
    "  return tf.cast(image, tf.uint8)"
   ]
  },
  {
   "cell_type": "code",
   "execution_count": 7,
   "metadata": {},
   "outputs": [],
   "source": [
    "#CREATE YOUR OWN DAMN DATA_PROVIDER\n",
    "#shoe_dir = '/Users/griggles/Documents/FLATIRON/Final Project/Fashion/shoes/numpy'\n",
    "#shoe_split_name = 'train'\n",
    "#img_array = np.load('{}/{}_data_imgs.npy'.format(shoe_dir, shoe_split_name))\n",
    "#shoe_images = tf.convert_to_tensor(img_array)\n",
    "#lbl_array = np.load('{}/{}_data_lbls.npy'.format(shoe_dir, shoe_split_name))\n",
    "#shoe_labels = tf.convert_to_tensor(lbl_array)\n",
    "#items_to_tensors = {'images': shoe_images, 'labels': shoe_labels}\n",
    "#num_samples = img_array.shape[0]\n",
    "#shoe_data_provider = slim.data_provider.DataProvider(items_to_tensors, num_samples)"
   ]
  },
  {
   "cell_type": "code",
   "execution_count": 8,
   "metadata": {},
   "outputs": [],
   "source": [
    "#items_to_tensors"
   ]
  },
  {
   "cell_type": "code",
   "execution_count": 9,
   "metadata": {},
   "outputs": [],
   "source": [
    "dataset = get_shoe_dataset('test', '/Users/griggles/Documents/FLATIRON/Final Project/Fashion/shoes/numpy')"
   ]
  },
  {
   "cell_type": "code",
   "execution_count": 10,
   "metadata": {},
   "outputs": [
    {
     "name": "stdout",
     "output_type": "stream",
     "text": [
      "<class 'tensorflow.python.data.ops.dataset_ops.TensorSliceDataset'>\n"
     ]
    }
   ],
   "source": [
    "print(type(dataset))"
   ]
  },
  {
   "cell_type": "code",
   "execution_count": 11,
   "metadata": {},
   "outputs": [
    {
     "name": "stdout",
     "output_type": "stream",
     "text": [
      "/Users/griggles/Documents/FLATIRON/FINAL PROJECT/Fashion/tf_experiment/models/research/gan\n"
     ]
    }
   ],
   "source": [
    "print(os.getcwd())"
   ]
  },
  {
   "cell_type": "markdown",
   "metadata": {
    "colab_type": "text",
    "id": "T2rmFQ5kAXtb"
   },
   "source": [
    "<a id='unconditional_example'></a>\n",
    "# Unconditional GAN Example\n",
    "\n",
    "With unconditional GANs, we want a generator network to produce realistic-looking digits. During training, the generator tries to produce realistic-enough digits to 'fool' a discriminator network, while the discriminator tries to distinguish real digits from generated ones. See the paper ['NIPS 2016 Tutorial: Generative Adversarial Networks'](https://arxiv.org/pdf/1701.00160.pdf) by Goodfellow or ['Generative Adversarial Networks'](https://arxiv.org/abs/1406.2661) by Goodfellow et al. for more details.\n",
    "\n",
    "The steps to using TFGAN to set up an unconditional GAN, in the simplest case, are as follows:\n",
    "\n",
    "1. **Model**: Set up the generator and discriminator graphs with a [`GANModel`](https://github.com/tensorflow/tensorflow/blob/master/tensorflow/contrib/gan/python/namedtuples.py#L39) tuple. Use [`tfgan.gan_model`](https://github.com/tensorflow/tensorflow/blob/master/tensorflow/contrib/gan/python/train.py#L64) or create one manually.\n",
    "1. **Losses**: Set up the generator and discriminator losses with a [`GANLoss`](https://github.com/tensorflow/tensorflow/blob/master/tensorflow/contrib/gan/python/namedtuples.py#L115) tuple. Use [`tfgan.gan_loss`](https://github.com/tensorflow/tensorflow/blob/master/tensorflow/contrib/gan/python/train.py#L328) or create one manually.\n",
    "1. **Train ops**: Set up TensorFlow ops that compute the loss, calculate the gradients, and update the weights with a [`GANTrainOps`](https://github.com/tensorflow/tensorflow/blob/master/tensorflow/contrib/gan/python/namedtuples.py#L128) tuple. Use [`tfgan.gan_train_ops`](https://github.com/tensorflow/tensorflow/blob/master/tensorflow/contrib/gan/python/train.py#L476) or create one manually.\n",
    "1. **Run alternating train loop**: Run the training Ops. This can be done with [`tfgan.gan_train`](https://github.com/tensorflow/tensorflow/blob/master/tensorflow/contrib/gan/python/train.py#L661), or done manually.\n",
    "\n",
    "Each step can be performed by a TFGAN library call, or can be constructed manually for more control."
   ]
  },
  {
   "cell_type": "code",
   "execution_count": 12,
   "metadata": {},
   "outputs": [],
   "source": [
    "SHOE_DATA_DIR = '/Users/griggles/Documents/FLATIRON/Final Project/Fashion/shoes/numpy'\n",
    "\n",
    "#PROVIDES THE BATCH TENSOR\n",
    "def provide_batch(split_name, batch_size, num_epochs, data_dir):\n",
    "    img_array = np.load('{}/{}_data_imgs.npy'.format(data_dir, split_name)).astype(np.float32)\n",
    "    lbl_array = np.load('{}/{}_data_lbls.npy'.format(data_dir, split_name)).astype(np.float32)\n",
    "    dataset = tf.data.Dataset.from_tensor_slices((img_array, lbl_array))\n",
    "    dataset = dataset.repeat(num_epochs)\n",
    "    \n",
    "    #set drop_remainder to True to force shape of tensor to have size 32 :)\n",
    "    #(AND THEREFORE ACT LIKE THIS NOTEBOOK WAS BEFORE :))\n",
    "    return dataset.batch(batch_size, drop_remainder=True).make_one_shot_iterator()\n",
    "    \n",
    "\n",
    "    "
   ]
  },
  {
   "cell_type": "code",
   "execution_count": 13,
   "metadata": {},
   "outputs": [
    {
     "name": "stderr",
     "output_type": "stream",
     "text": [
      "WARNING: Logging before flag parsing goes to stderr.\n",
      "W0206 05:30:57.940076 4634342848 deprecation.py:323] From <ipython-input-12-2fb68cf5507a>:12: DatasetV1.make_one_shot_iterator (from tensorflow.python.data.ops.dataset_ops) is deprecated and will be removed in a future version.\n",
      "Instructions for updating:\n",
      "Use `for ... in dataset:` to iterate over a dataset. If using `tf.estimator`, return the `Dataset` object directly from your input function. As a last resort, you can use `tf.compat.v1.data.make_one_shot_iterator(dataset)`.\n"
     ]
    }
   ],
   "source": [
    "iterator =  provide_batch('train', 32, 1, SHOE_DATA_DIR)"
   ]
  },
  {
   "cell_type": "markdown",
   "metadata": {
    "colab_type": "text",
    "id": "44okyzjZAXtc"
   },
   "source": [
    "<a id='unconditional_input'></a>\n",
    "## Data input pipeline"
   ]
  },
  {
   "cell_type": "code",
   "execution_count": 14,
   "metadata": {},
   "outputs": [
    {
     "data": {
      "image/png": "[encoded data removed]",
      "text/plain": [
       "<Figure size 432x288 with 1 Axes>"
      ]
     },
     "metadata": {},
     "output_type": "display_data"
    }
   ],
   "source": [
    "#CELL WE NEED TO BE AWARE OF\n",
    "SHOE_DATA_DIR = '/Users/griggles/Documents/FLATIRON/Final Project/Fashion/shoes/numpy'\n",
    "\n",
    "tf.reset_default_graph()\n",
    "\n",
    "# Define our input pipeline. Pin it to the CPU so that the GPU can be reserved\n",
    "# for forward and backwards propogation.\n",
    "batch_size = 32\n",
    "with tf.device('/cpu:0'):\n",
    "    #dataset = provide_shoe_data('train', batch_size, SHOE_DATA_DIR)._dataset\n",
    "    #real_images, _, _ = shoe_data_provider.provide_data('train', batch_size, SHOE_DATA_DIR)\n",
    "    iterator = provide_batch('train', batch_size, 1, SHOE_DATA_DIR)\n",
    "    \n",
    "    real_images = iterator.get_next()[0]\n",
    "\n",
    "# Sanity check that we're getting images.\n",
    "check_real_digits = tfgan.eval.image_reshaper(\n",
    "    real_images[:20,...], num_cols=10)\n",
    "visualize_digits(check_real_digits)"
   ]
  },
  {
   "cell_type": "markdown",
   "metadata": {
    "colab": {
     "base_uri": "https://localhost:8080/",
     "height": 572
    },
    "colab_type": "code",
    "id": "yT2GiAgKAXtd",
    "outputId": "501ec145-a2ef-4569-d9e7-896b18af602c"
   },
   "source": [
    "#CELL WE NEED TO BE AWARE OF\n",
    "\n",
    "\n",
    "#tf.reset_default_graph()\n",
    "\n",
    "# Define our input pipeline. Pin it to the CPU so that the GPU can be reserved\n",
    "# for forward and backwards propogation.\n",
    "batch_size = 32\n",
    "with tf.device('/cpu:0'):\n",
    "    \n",
    "    #data_provider will add a dataset node to the graph... or something\n",
    "    #what's a dataset node? A SOURCE NODE THAT SPITS OUT BATCHES OF TENSORS\n",
    "    #INTO THE REST OF THE MODEL!\n",
    "    real_images, _, _ = data_provider.provide_data(\n",
    "        'train', batch_size, MNIST_DATA_DIR)\n",
    "    \n",
    "    \n",
    "    #just fuckin figure out what this is doing ^ and fix it\n",
    "    \n",
    "#    print(real_images)\n",
    "\n",
    "# Sanity check that we're getting images.\n",
    "check_real_digits = tfgan.eval.image_reshaper(\n",
    "    real_images[:20,...], num_cols=10)\n",
    "visualize_digits(check_real_digits)"
   ]
  },
  {
   "cell_type": "code",
   "execution_count": 15,
   "metadata": {},
   "outputs": [
    {
     "data": {
      "text/plain": [
       "<tf.Tensor 'IteratorGetNext:0' shape=(32, 28, 28, 1) dtype=float32>"
      ]
     },
     "execution_count": 15,
     "metadata": {},
     "output_type": "execute_result"
    }
   ],
   "source": [
    "real_images"
   ]
  },
  {
   "cell_type": "markdown",
   "metadata": {
    "colab_type": "text",
    "id": "Y9inbCtSAXt-"
   },
   "source": [
    "<a id='unconditional_model'></a>\n",
    "## Model\n",
    "\n",
    "Set up a [GANModel tuple](https://github.com/tensorflow/tensorflow/blob/master/tensorflow/contrib/gan/python/namedtuples.py#L39), which defines everything we need to perform GAN training. You can create the tuple with the library functions, or you can manually create one.\n",
    "\n",
    "Define the GANModel tuple using the TFGAN library function.\n",
    "For the simplest case, we need the following:\n",
    "\n",
    "1. A generator function that takes input noise and outputs generated MNIST digits\n",
    "\n",
    "1. A discriminator function that takes images and outputs a probability of  being real or fake\n",
    "\n",
    "1. Real images\n",
    "\n",
    "1. A noise vector to pass to the generator"
   ]
  },
  {
   "cell_type": "markdown",
   "metadata": {
    "colab_type": "text",
    "id": "MyRzwOnHAXuA"
   },
   "source": [
    "### Generator"
   ]
  },
  {
   "cell_type": "code",
   "execution_count": 16,
   "metadata": {
    "colab": {},
    "colab_type": "code",
    "id": "sTrJq_nqAXuB"
   },
   "outputs": [],
   "source": [
    "def generator_fn(noise, weight_decay=2.5e-5, is_training=True):\n",
    "    \"\"\"Simple generator to produce MNIST images.\n",
    "    \n",
    "    Args:\n",
    "        noise: A single Tensor representing noise.\n",
    "        weight_decay: The value of the l2 weight decay.\n",
    "        is_training: If `True`, batch norm uses batch statistics. If `False`, batch\n",
    "            norm uses the exponential moving average collected from population \n",
    "            statistics.\n",
    "    \n",
    "    Returns:\n",
    "        A generated image in the range [-1, 1].\n",
    "    \"\"\"\n",
    "    with framework.arg_scope(\n",
    "        [layers.fully_connected, layers.conv2d_transpose],\n",
    "        activation_fn=tf.nn.relu, normalizer_fn=layers.batch_norm,\n",
    "        weights_regularizer=layers.l2_regularizer(weight_decay)),\\\n",
    "    framework.arg_scope([layers.batch_norm], is_training=is_training,\n",
    "                        zero_debias_moving_mean=True):\n",
    "        net = layers.fully_connected(noise, 1024)\n",
    "        net = layers.fully_connected(net, 7 * 7 * 256)\n",
    "        net = tf.reshape(net, [-1, 7, 7, 256])\n",
    "        net = layers.conv2d_transpose(net, 64, [4, 4], stride=2)\n",
    "        net = layers.conv2d_transpose(net, 32, [4, 4], stride=2)\n",
    "        # Make sure that generator output is in the same range as `inputs`\n",
    "        # ie [-1, 1].\n",
    "        net = layers.conv2d(net, 1, 4, normalizer_fn=None, activation_fn=tf.tanh)\n",
    "\n",
    "        return net"
   ]
  },
  {
   "cell_type": "markdown",
   "metadata": {
    "colab_type": "text",
    "id": "u-ZQELRAAXul"
   },
   "source": [
    "### Discriminator"
   ]
  },
  {
   "cell_type": "code",
   "execution_count": 17,
   "metadata": {
    "colab": {},
    "colab_type": "code",
    "id": "OP2an0miAXum"
   },
   "outputs": [],
   "source": [
    "def discriminator_fn(img, unused_conditioning, weight_decay=2.5e-5,\n",
    "                     is_training=True):\n",
    "    \"\"\"Discriminator network on MNIST digits.\n",
    "    \n",
    "    Args:\n",
    "        img: Real or generated MNIST digits. Should be in the range [-1, 1].\n",
    "        unused_conditioning: The TFGAN API can help with conditional GANs, which\n",
    "            would require extra `condition` information to both the generator and the\n",
    "            discriminator. Since this example is not conditional, we do not use this\n",
    "            argument.\n",
    "        weight_decay: The L2 weight decay.\n",
    "        is_training: If `True`, batch norm uses batch statistics. If `False`, batch\n",
    "            norm uses the exponential moving average collected from population \n",
    "            statistics.\n",
    "    \n",
    "    Returns:\n",
    "        Logits for the probability that the image is real.\n",
    "    \"\"\"\n",
    "    with framework.arg_scope(\n",
    "        [layers.conv2d, layers.fully_connected],\n",
    "        activation_fn=leaky_relu, normalizer_fn=None,\n",
    "        weights_regularizer=layers.l2_regularizer(weight_decay),\n",
    "        biases_regularizer=layers.l2_regularizer(weight_decay)):\n",
    "        net = layers.conv2d(img, 64, [4, 4], stride=2)\n",
    "        net = layers.conv2d(net, 128, [4, 4], stride=2)\n",
    "        net = layers.flatten(net)\n",
    "        with framework.arg_scope([layers.batch_norm], is_training=is_training):\n",
    "            net = layers.fully_connected(net, 1024, normalizer_fn=layers.batch_norm)\n",
    "        return layers.linear(net, 1)"
   ]
  },
  {
   "cell_type": "markdown",
   "metadata": {
    "colab_type": "text",
    "id": "HHY1rIEVAXuq"
   },
   "source": [
    "### GANModel Tuple"
   ]
  },
  {
   "cell_type": "code",
   "execution_count": 18,
   "metadata": {
    "colab": {},
    "colab_type": "code",
    "id": "ozqdhPImAXur"
   },
   "outputs": [
    {
     "name": "stderr",
     "output_type": "stream",
     "text": [
      "W0206 05:31:06.228585 4634342848 deprecation.py:506] From /anaconda3/lib/python3.6/site-packages/tensorflow/python/training/moving_averages.py:210: calling Zeros.__init__ (from tensorflow.python.ops.init_ops) with dtype is deprecated and will be removed in a future version.\n",
      "Instructions for updating:\n",
      "Call initializer instance with the dtype argument instead of passing it to the constructor\n",
      "W0206 05:31:06.469275 4634342848 deprecation.py:323] From /anaconda3/lib/python3.6/site-packages/tensorflow/contrib/layers/python/layers/layers.py:1624: flatten (from tensorflow.python.layers.core) is deprecated and will be removed in a future version.\n",
      "Instructions for updating:\n",
      "Use keras.layers.flatten instead.\n"
     ]
    },
    {
     "data": {
      "image/png": "[encoded data removed]",
      "text/plain": [
       "<Figure size 432x288 with 1 Axes>"
      ]
     },
     "metadata": {},
     "output_type": "display_data"
    }
   ],
   "source": [
    "noise_dims = 64\n",
    "\n",
    "#this is where the real_data gets passed in (As a tensor)\n",
    "\n",
    "\n",
    "##### PROBLEM WITH PASSING DISCRIMINATOR ARGUMENTS... APPARENTLY SPECIFIED INT_64??\n",
    "gan_model = tfgan.gan_model(\n",
    "    generator_fn,\n",
    "    discriminator_fn,\n",
    "    real_data=real_images,\n",
    "    generator_inputs=tf.random_normal([batch_size, noise_dims]))\n",
    "\n",
    "# Sanity check that generated images before training are garbage.\n",
    "check_generated_digits = tfgan.eval.image_reshaper(\n",
    "    gan_model.generated_data[:20,...], num_cols=10)\n",
    "visualize_digits(check_generated_digits)"
   ]
  },
  {
   "cell_type": "markdown",
   "metadata": {
    "colab_type": "text",
    "id": "U9sD6vrVAXu9"
   },
   "source": [
    "<a id='unconditional_loss'></a>\n",
    "## Losses\n",
    "\n",
    "We next set up the GAN model losses.\n",
    "\n",
    "Loss functions are currently an active area of research. The [losses library](https://github.com/tensorflow/tensorflow/blob/master/tensorflow/contrib/gan/python/losses/python/losses_impl.py) provides some well-known or successful loss functions, such as the [original minimax](https://arxiv.org/abs/1406.2661), [Wasserstein](https://arxiv.org/abs/1701.07875) (by Arjovsky et al), and [improved Wasserstein](https://arxiv.org/abs/1704.00028) (by Gulrajani et al) losses. It is easy to add loss functions to the library as they are developed, and you can also pass in a custom loss function."
   ]
  },
  {
   "cell_type": "code",
   "execution_count": 19,
   "metadata": {
    "colab": {},
    "colab_type": "code",
    "id": "hyPSykYFAXu_"
   },
   "outputs": [
    {
     "name": "stdout",
     "output_type": "stream",
     "text": [
      "vanilla loss generator loss: -1.117800\n",
      "vanilla loss discriminator loss: 1.500713\n",
      "improved wgan loss generator loss: 0.154266\n",
      "improved wgan loss discriminator loss: 0.052257\n",
      "custom loss generator loss: -0.052407\n",
      "custom loss discriminator loss: -0.030492\n"
     ]
    }
   ],
   "source": [
    "# We can use the minimax loss from the original paper.\n",
    "vanilla_gan_loss = tfgan.gan_loss(\n",
    "    gan_model,\n",
    "    generator_loss_fn=tfgan.losses.minimax_generator_loss,\n",
    "    discriminator_loss_fn=tfgan.losses.minimax_discriminator_loss)\n",
    "\n",
    "# We can use the Wasserstein loss (https://arxiv.org/abs/1701.07875) with the \n",
    "# gradient penalty from the improved Wasserstein loss paper \n",
    "# (https://arxiv.org/abs/1704.00028).\n",
    "improved_wgan_loss = tfgan.gan_loss(\n",
    "    gan_model,\n",
    "    # We make the loss explicit for demonstration, even though the default is \n",
    "    # Wasserstein loss.\n",
    "    generator_loss_fn=tfgan.losses.wasserstein_generator_loss,\n",
    "    discriminator_loss_fn=tfgan.losses.wasserstein_discriminator_loss,\n",
    "    gradient_penalty_weight=1.0)\n",
    "\n",
    "# We can also define custom losses to use with the rest of the TFGAN framework.\n",
    "def silly_custom_generator_loss(gan_model, add_summaries=False):\n",
    "    return tf.reduce_mean(gan_model.discriminator_gen_outputs)\n",
    "def silly_custom_discriminator_loss(gan_model, add_summaries=False):\n",
    "    return (tf.reduce_mean(gan_model.discriminator_gen_outputs) -\n",
    "            tf.reduce_mean(gan_model.discriminator_real_outputs))\n",
    "custom_gan_loss = tfgan.gan_loss(\n",
    "    gan_model,\n",
    "    generator_loss_fn=silly_custom_generator_loss,\n",
    "    discriminator_loss_fn=silly_custom_discriminator_loss)\n",
    "\n",
    "# Sanity check that we can evaluate our losses.\n",
    "for gan_loss, name in [(vanilla_gan_loss, 'vanilla loss'), \n",
    "                       (improved_wgan_loss, 'improved wgan loss'), \n",
    "                       (custom_gan_loss, 'custom loss')]:\n",
    "    evaluate_tfgan_loss(gan_loss, name)"
   ]
  },
  {
   "cell_type": "markdown",
   "metadata": {
    "colab_type": "text",
    "id": "OrPxqZYaAXvE"
   },
   "source": [
    "<a id='unconditional_train'></a>\n",
    "## Training and Evaluation\n",
    "\n",
    "### Train Ops\n",
    "In order to train a GAN, we need to train both generator and discriminator networks using some variant of the alternating training paradigm. To do this, we construct a [GANTrainOps tuple](https://github.com/tensorflow/tensorflow/blob/master/tensorflow/contrib/gan/python/namedtuples.py#L128) either manually or with a library call. We pass it the optimizers that we want to use, as well as any extra arguments that we'd like passed to slim's `create_train_op` function."
   ]
  },
  {
   "cell_type": "code",
   "execution_count": 20,
   "metadata": {
    "colab": {},
    "colab_type": "code",
    "id": "VdyJadkWAXvY"
   },
   "outputs": [
    {
     "name": "stderr",
     "output_type": "stream",
     "text": [
      "W0206 05:31:26.576143 4634342848 training.py:421] update_ops in create_train_op does not contain all the update_ops in GraphKeys.UPDATE_OPS\n",
      "W0206 05:31:26.890939 4634342848 training.py:421] update_ops in create_train_op does not contain all the update_ops in GraphKeys.UPDATE_OPS\n"
     ]
    }
   ],
   "source": [
    "generator_optimizer = tf.train.AdamOptimizer(0.001, beta1=0.5)\n",
    "discriminator_optimizer = tf.train.AdamOptimizer(0.0001, beta1=0.5)\n",
    "gan_train_ops = tfgan.gan_train_ops(\n",
    "    gan_model,\n",
    "    improved_wgan_loss,\n",
    "    generator_optimizer,\n",
    "    discriminator_optimizer)"
   ]
  },
  {
   "cell_type": "markdown",
   "metadata": {
    "colab_type": "text",
    "id": "qhP7B73jAXvg"
   },
   "source": [
    "### Evaluation\n",
    "\n",
    "TFGAN provides some standard methods of evaluating generative models. In this example, we use a pre-trained classifier to calculate what is called the 'Inception Score' from [Improved Techniques for Training GANs](https://arxiv.org/abs/1606.03498) (by Salimans et al), which is a combined score of quality and diversity. We also calculate the 'Frechet Inception distance' from [GANs Trained by a Two Time-Scale Update Rule Converge to a Local Nash Equilibrium](https://arxiv.org/abs/1706.08500) (by Heusel et al), which measures how close the generated image distribution is to the real image distribution. "
   ]
  },
  {
   "cell_type": "code",
   "execution_count": 21,
   "metadata": {
    "colab": {},
    "colab_type": "code",
    "id": "U_EBtUmiAXvy"
   },
   "outputs": [
    {
     "name": "stderr",
     "output_type": "stream",
     "text": [
      "W0206 05:31:27.419022 4634342848 deprecation.py:323] From /anaconda3/lib/python3.6/site-packages/tensorflow/contrib/gan/python/eval/python/classifier_metrics_impl.py:192: FastGFile.__init__ (from tensorflow.python.platform.gfile) is deprecated and will be removed in a future version.\n",
      "Instructions for updating:\n",
      "Use tf.gfile.GFile.\n",
      "W0206 05:31:27.541882 4634342848 deprecation.py:323] From /anaconda3/lib/python3.6/site-packages/tensorflow/contrib/slim/python/slim/data/parallel_reader.py:242: string_input_producer (from tensorflow.python.training.input) is deprecated and will be removed in a future version.\n",
      "Instructions for updating:\n",
      "Queue-based input pipelines have been replaced by `tf.data`. Use `tf.data.Dataset.from_tensor_slices(string_tensor).shuffle(tf.shape(input_tensor, out_type=tf.int64)[0]).repeat(num_epochs)`. If `shuffle=False`, omit the `.shuffle(...)`.\n",
      "W0206 05:31:27.548696 4634342848 deprecation.py:323] From /anaconda3/lib/python3.6/site-packages/tensorflow/python/training/input.py:278: input_producer (from tensorflow.python.training.input) is deprecated and will be removed in a future version.\n",
      "Instructions for updating:\n",
      "Queue-based input pipelines have been replaced by `tf.data`. Use `tf.data.Dataset.from_tensor_slices(input_tensor).shuffle(tf.shape(input_tensor, out_type=tf.int64)[0]).repeat(num_epochs)`. If `shuffle=False`, omit the `.shuffle(...)`.\n",
      "W0206 05:31:27.550934 4634342848 deprecation.py:323] From /anaconda3/lib/python3.6/site-packages/tensorflow/python/training/input.py:190: limit_epochs (from tensorflow.python.training.input) is deprecated and will be removed in a future version.\n",
      "Instructions for updating:\n",
      "Queue-based input pipelines have been replaced by `tf.data`. Use `tf.data.Dataset.from_tensors(tensor).repeat(num_epochs)`.\n",
      "W0206 05:31:27.554447 4634342848 deprecation.py:323] From /anaconda3/lib/python3.6/site-packages/tensorflow/python/training/input.py:199: QueueRunner.__init__ (from tensorflow.python.training.queue_runner_impl) is deprecated and will be removed in a future version.\n",
      "Instructions for updating:\n",
      "To construct input pipelines, use the `tf.data` module.\n",
      "W0206 05:31:27.556497 4634342848 deprecation.py:323] From /anaconda3/lib/python3.6/site-packages/tensorflow/python/training/input.py:199: add_queue_runner (from tensorflow.python.training.queue_runner_impl) is deprecated and will be removed in a future version.\n",
      "Instructions for updating:\n",
      "To construct input pipelines, use the `tf.data` module.\n",
      "W0206 05:31:27.557689 4634342848 deprecation.py:323] From /anaconda3/lib/python3.6/site-packages/tensorflow/python/training/input.py:202: to_float (from tensorflow.python.ops.math_ops) is deprecated and will be removed in a future version.\n",
      "Instructions for updating:\n",
      "Use tf.cast instead.\n",
      "W0206 05:31:27.569156 4634342848 deprecation.py:323] From /anaconda3/lib/python3.6/site-packages/tensorflow/contrib/slim/python/slim/data/parallel_reader.py:94: TFRecordReader.__init__ (from tensorflow.python.ops.io_ops) is deprecated and will be removed in a future version.\n",
      "Instructions for updating:\n",
      "Queue-based input pipelines have been replaced by `tf.data`. Use `tf.data.TFRecordDataset`.\n",
      "W0206 05:31:27.750693 4634342848 deprecation.py:323] From /Users/griggles/Documents/FLATIRON/FINAL PROJECT/Fashion/tf_experiment/models/research/gan/mnist/data_provider.py:68: batch (from tensorflow.python.training.input) is deprecated and will be removed in a future version.\n",
      "Instructions for updating:\n",
      "Queue-based input pipelines have been replaced by `tf.data`. Use `tf.data.Dataset.batch(batch_size)` (or `padded_batch(...)` if `dynamic_pad=True`).\n"
     ]
    },
    {
     "name": "stdout",
     "output_type": "stream",
     "text": [
      "DATA TENSOR\n",
      "<class 'tensorflow.python.framework.ops.Tensor'>\n",
      "Tensor(\"parallel_read/common_queue_Dequeue:1\", dtype=string, device=/device:CPU:0)\n",
      "<unknown>\n",
      "END DATA TENSOR\n",
      "['image', 'label']\n",
      "TENSORS\n",
      "<class 'list'>\n",
      "[<tf.Tensor 'Reshape_3:0' shape=(28, 28, 1) dtype=uint8>, <tf.Tensor 'Reshape_4:0' shape=() dtype=int64>]\n",
      "END OF TENSORS\n",
      "[TensorShape([Dimension(28), Dimension(28), Dimension(1)]), TensorShape([])]\n",
      "{'image': <tf.Tensor 'Reshape_3:0' shape=(28, 28, 1) dtype=uint8>, 'label': <tf.Tensor 'Reshape_4:0' shape=() dtype=int64>, 'record_key': <tf.Tensor 'parallel_read/common_queue_Dequeue:0' shape=<unknown> dtype=string>}\n",
      "(28, 28, 1)\n"
     ]
    }
   ],
   "source": [
    "num_images_to_eval = 500\n",
    "\n",
    "#this is a saved classifier\n",
    "MNIST_CLASSIFIER_FROZEN_GRAPH = './mnist/data/classify_mnist_graph_def.pb'\n",
    "\n",
    "# For variables to load, use the same variable scope as in the train job.\n",
    "with tf.variable_scope('Generator', reuse=True):\n",
    "    eval_images = gan_model.generator_fn(\n",
    "        tf.random_normal([num_images_to_eval, noise_dims]),\n",
    "        is_training=False)\n",
    "\n",
    "# Calculate Inception score.\n",
    "eval_score = util.mnist_score(eval_images, MNIST_CLASSIFIER_FROZEN_GRAPH)\n",
    "\n",
    "# Calculate Frechet Inception distance.\n",
    "with tf.device('/cpu:0'):\n",
    "    real_images, _, _ = data_provider.provide_data(\n",
    "        'train', num_images_to_eval, MNIST_DATA_DIR)\n",
    "frechet_distance = util.mnist_frechet_distance(\n",
    "    real_images, eval_images, MNIST_CLASSIFIER_FROZEN_GRAPH)\n",
    "\n",
    "# Reshape eval images for viewing.\n",
    "generated_data_to_visualize = tfgan.eval.image_reshaper(\n",
    "    eval_images[:20,...], num_cols=10)"
   ]
  },
  {
   "cell_type": "code",
   "execution_count": 22,
   "metadata": {
    "colab": {},
    "colab_type": "code",
    "id": "9KDFjzxVAXv-"
   },
   "outputs": [],
   "source": [
    "#inception score probably just takes a classifier that already works on the right distribution \n",
    "#and sees how it does on this new distribution. Kind of like an analogy between probability\n",
    "#and likelihood. The score represents... "
   ]
  },
  {
   "cell_type": "markdown",
   "metadata": {
    "colab_type": "text",
    "id": "Xn3P8E7hAXwO"
   },
   "source": [
    "### Train Steps\n",
    "\n",
    "Now we're ready to train. TFGAN handles the alternating training scheme that arises from the GAN minmax game. It also gives you the option of changing the ratio of discriminator updates to generator updates. Most applications (distributed setting, borg, etc) will use the [`gan_train`](https://github.com/tensorflow/tensorflow/blob/master/tensorflow/contrib/gan/python/train.py#L661) function, but we will use a different TFGAN utility and manually run the train ops so we can introspect more.\n",
    "\n",
    "This code block should take about **1 minute** to run on a GPU kernel, and about **8 minutes** on CPU."
   ]
  },
  {
   "cell_type": "code",
   "execution_count": null,
   "metadata": {
    "colab": {},
    "colab_type": "code",
    "id": "2YvHRl_7AXwP"
   },
   "outputs": [
    {
     "name": "stderr",
     "output_type": "stream",
     "text": [
      "W0206 05:31:31.755888 4634342848 deprecation.py:323] From /anaconda3/lib/python3.6/site-packages/tensorflow/python/training/monitored_session.py:826: start_queue_runners (from tensorflow.python.training.queue_runner_impl) is deprecated and will be removed in a future version.\n",
      "Instructions for updating:\n",
      "To construct input pipelines, use the `tf.data` module.\n"
     ]
    },
    {
     "name": "stdout",
     "output_type": "stream",
     "text": [
      "Current loss: 0.238460\n",
      "Current MNIST score: 1.000075\n",
      "Current Frechet distance: 335.367371\n",
      "Training step: 0\n",
      "Time since start: 0.200862 m\n",
      "Steps per min: 0.000000\n"
     ]
    },
    {
     "data": {
      "image/png": "[encoded data removed]",
      "text/plain": [
       "<Figure size 432x288 with 1 Axes>"
      ]
     },
     "metadata": {},
     "output_type": "display_data"
    }
   ],
   "source": [
    "# We have the option to train the discriminator more than one step for every \n",
    "# step of the generator. In order to do this, we use a `GANTrainSteps` with \n",
    "# desired values. For this example, we use the default 1 generator train step \n",
    "# for every discriminator train step.\n",
    "train_step_fn = tfgan.get_sequential_train_steps()\n",
    "\n",
    "global_step = tf.train.get_or_create_global_step()\n",
    "loss_values, mnist_scores, frechet_distances  = [], [], []\n",
    "\n",
    "with tf.train.SingularMonitoredSession() as sess:\n",
    "    start_time = time.time()\n",
    "    for i in xrange(1601):\n",
    "        cur_loss, _ = train_step_fn(\n",
    "            sess, gan_train_ops, global_step, train_step_kwargs={})\n",
    "        loss_values.append((i, cur_loss))\n",
    "        if i % 200 == 0:\n",
    "            mnist_score, f_distance, digits_np = sess.run(\n",
    "                [eval_score, frechet_distance, generated_data_to_visualize])\n",
    "            mnist_scores.append((i, mnist_score))\n",
    "            frechet_distances.append((i, f_distance))\n",
    "            print('Current loss: %f' % cur_loss)\n",
    "            print('Current MNIST score: %f' % mnist_scores[-1][1])\n",
    "            print('Current Frechet distance: %f' % frechet_distances[-1][1])\n",
    "            visualize_training_generator(i, start_time, digits_np)"
   ]
  },
  {
   "cell_type": "code",
   "execution_count": null,
   "metadata": {
    "colab": {},
    "colab_type": "code",
    "id": "aR1bUa5cAXwr"
   },
   "outputs": [],
   "source": [
    "# Plot the eval metrics over time.\n",
    "plt.title('MNIST Frechet distance per step')\n",
    "plt.plot(*zip(*frechet_distances))\n",
    "plt.figure()\n",
    "plt.title('MNIST Score per step')\n",
    "plt.plot(*zip(*mnist_scores))\n",
    "plt.figure()\n",
    "plt.title('Training loss per step')\n",
    "plt.plot(*zip(*loss_values))"
   ]
  },
  {
   "cell_type": "code",
   "execution_count": null,
   "metadata": {
    "colab": {},
    "colab_type": "code",
    "id": "3mnhEXjkD5i8"
   },
   "outputs": [],
   "source": []
  }
 ],
 "metadata": {
  "accelerator": "GPU",
  "colab": {
   "collapsed_sections": [],
   "name": "ShoeGANv0.1.ipynb",
   "provenance": [],
   "toc_visible": true,
   "version": "0.3.2"
  },
  "kernelspec": {
   "display_name": "Python 3",
   "language": "python",
   "name": "python3"
  },
  "language_info": {
   "codemirror_mode": {
    "name": "ipython",
    "version": 3
   },
   "file_extension": ".py",
   "mimetype": "text/x-python",
   "name": "python",
   "nbconvert_exporter": "python",
   "pygments_lexer": "ipython3",
   "version": "3.6.5"
  }
 },
 "nbformat": 4,
 "nbformat_minor": 1
}
